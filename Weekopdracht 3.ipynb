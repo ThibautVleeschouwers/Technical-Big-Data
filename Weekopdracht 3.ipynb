{
 "cells": [
  {
   "cell_type": "markdown",
   "metadata": {},
   "source": [
    "# Week 3: Machine learning\n",
    "Voor deze week opdracht is er gekozen voor de dataset [Gender Recognition by Voice](https://www.kaggle.com/datasets/primaryobjects/voicegender). \n",
    "\n",
    "Als template voor de opdracht heb ik gebruik gemaakt van het example bestand knn. Dit gaf al een redelijke basis om de opdracht uit te voeren."
   ]
  },
  {
   "cell_type": "code",
   "execution_count": 1,
   "metadata": {},
   "outputs": [],
   "source": [
    "import seaborn as sns\n",
    "import sklearn as sk\n",
    "import pandas as pd\n",
    "import matplotlib.pyplot as plt\n",
    "from sklearn.model_selection import train_test_split"
   ]
  },
  {
   "cell_type": "markdown",
   "metadata": {},
   "source": [
    "Als variabeles voor de subset heb ik gekozen voor: \n",
    "- label: male or female\n",
    "- meanfreq: mean frequency (in kHz)\n",
    "- meanfun: average of fundamental frequency measured across acoustic signal\n",
    "- meandom: average of dominant frequency measured across acoustic signal\n",
    "- dfrange: range of dominant frequency measured across acoustic signal\n",
    "- modindx: modulation index. Calculated as the accumulated absolute difference between adjacent measurements of fundamental frequencies divided by the frequency range\n",
    "- IQR: interquantile range (in kHz)\n",
    "- kurt: kurtosis (see note in specprop description)"
   ]
  },
  {
   "cell_type": "code",
   "execution_count": 4,
   "metadata": {},
   "outputs": [
    {
     "data": {
      "text/html": [
       "<div>\n",
       "<style scoped>\n",
       "    .dataframe tbody tr th:only-of-type {\n",
       "        vertical-align: middle;\n",
       "    }\n",
       "\n",
       "    .dataframe tbody tr th {\n",
       "        vertical-align: top;\n",
       "    }\n",
       "\n",
       "    .dataframe thead th {\n",
       "        text-align: right;\n",
       "    }\n",
       "</style>\n",
       "<table border=\"1\" class=\"dataframe\">\n",
       "  <thead>\n",
       "    <tr style=\"text-align: right;\">\n",
       "      <th></th>\n",
       "      <th>label</th>\n",
       "      <th>meanfreq</th>\n",
       "      <th>meanfun</th>\n",
       "      <th>meandom</th>\n",
       "      <th>dfrange</th>\n",
       "      <th>modindx</th>\n",
       "      <th>IQR</th>\n",
       "      <th>kurt</th>\n",
       "    </tr>\n",
       "  </thead>\n",
       "  <tbody>\n",
       "    <tr>\n",
       "      <th>0</th>\n",
       "      <td>male</td>\n",
       "      <td>0.059781</td>\n",
       "      <td>0.084279</td>\n",
       "      <td>0.007812</td>\n",
       "      <td>0.000000</td>\n",
       "      <td>0.000000</td>\n",
       "      <td>0.075122</td>\n",
       "      <td>274.402906</td>\n",
       "    </tr>\n",
       "    <tr>\n",
       "      <th>1</th>\n",
       "      <td>male</td>\n",
       "      <td>0.066009</td>\n",
       "      <td>0.107937</td>\n",
       "      <td>0.009014</td>\n",
       "      <td>0.046875</td>\n",
       "      <td>0.052632</td>\n",
       "      <td>0.073252</td>\n",
       "      <td>634.613855</td>\n",
       "    </tr>\n",
       "    <tr>\n",
       "      <th>2</th>\n",
       "      <td>male</td>\n",
       "      <td>0.077316</td>\n",
       "      <td>0.098706</td>\n",
       "      <td>0.007990</td>\n",
       "      <td>0.007812</td>\n",
       "      <td>0.046512</td>\n",
       "      <td>0.123207</td>\n",
       "      <td>1024.927705</td>\n",
       "    </tr>\n",
       "    <tr>\n",
       "      <th>3</th>\n",
       "      <td>male</td>\n",
       "      <td>0.151228</td>\n",
       "      <td>0.088965</td>\n",
       "      <td>0.201497</td>\n",
       "      <td>0.554688</td>\n",
       "      <td>0.247119</td>\n",
       "      <td>0.111374</td>\n",
       "      <td>4.177296</td>\n",
       "    </tr>\n",
       "    <tr>\n",
       "      <th>4</th>\n",
       "      <td>male</td>\n",
       "      <td>0.135120</td>\n",
       "      <td>0.106398</td>\n",
       "      <td>0.712812</td>\n",
       "      <td>5.476562</td>\n",
       "      <td>0.208274</td>\n",
       "      <td>0.127325</td>\n",
       "      <td>4.333713</td>\n",
       "    </tr>\n",
       "  </tbody>\n",
       "</table>\n",
       "</div>"
      ],
      "text/plain": [
       "  label  meanfreq   meanfun   meandom   dfrange   modindx       IQR  \\\n",
       "0  male  0.059781  0.084279  0.007812  0.000000  0.000000  0.075122   \n",
       "1  male  0.066009  0.107937  0.009014  0.046875  0.052632  0.073252   \n",
       "2  male  0.077316  0.098706  0.007990  0.007812  0.046512  0.123207   \n",
       "3  male  0.151228  0.088965  0.201497  0.554688  0.247119  0.111374   \n",
       "4  male  0.135120  0.106398  0.712812  5.476562  0.208274  0.127325   \n",
       "\n",
       "          kurt  \n",
       "0   274.402906  \n",
       "1   634.613855  \n",
       "2  1024.927705  \n",
       "3     4.177296  \n",
       "4     4.333713  "
      ]
     },
     "execution_count": 4,
     "metadata": {},
     "output_type": "execute_result"
    }
   ],
   "source": [
    "df = pd.read_csv('voice.csv')\n",
    "df = df.dropna()\n",
    "\n",
    "#maken van subset voor het uitvoeren van de opdracht\n",
    "df2 = df[[\"label\",\"meanfreq\", \"meanfun\", \"meandom\", \"dfrange\", \"modindx\", \"IQR\", \"kurt\" ]] \n",
    "df2.head()"
   ]
  },
  {
   "cell_type": "code",
   "execution_count": 3,
   "metadata": {},
   "outputs": [
    {
     "data": {
      "text/plain": [
       "male      1584\n",
       "female    1584\n",
       "Name: label, dtype: int64"
      ]
     },
     "execution_count": 3,
     "metadata": {},
     "output_type": "execute_result"
    }
   ],
   "source": [
    "#laat de hoeveelheid van beide genders zien\n",
    "df['label'].value_counts() "
   ]
  },
  {
   "cell_type": "markdown",
   "metadata": {},
   "source": [
    "Hieronder begin ik met set uppen van machine learning proces. Ik pak alle variabelen behalve 'label' als x waarde. Label wordt gebruikt als y waarde, omdat deze variabele aangeeft welke gender het is. Omdat de variabele niet allemaal op dezelfde manier is geschreven voeren we ook nog een normalisatie uit om het trainen makkelijker te maken. Vervolgens splitsen we de dataset in 4 verschillende variabele om het systeem te trainen. "
   ]
  },
  {
   "cell_type": "code",
   "execution_count": 5,
   "metadata": {},
   "outputs": [],
   "source": [
    "from sklearn.preprocessing import normalize \n",
    "\n",
    "#aanmaken van de x matrix \n",
    "X = df2[[\"meanfreq\", \"meanfun\", \"meandom\", \"dfrange\", \"modindx\", \"IQR\", \"kurt\" ]] \n",
    "\n",
    "#Normaliseren van de x matrix, zorgt ervoor dat alles op dezelfde schaal is.\n",
    "X = normalize(X) \n",
    "\n",
    "#aanmaken van y variabelen \n",
    "y = df2['label'] \n",
    "\n",
    "#splitsen van data\n",
    "X_train, X_test, y_train, y_test = train_test_split(X, y, test_size=0.3, random_state=1) "
   ]
  },
  {
   "cell_type": "code",
   "execution_count": 6,
   "metadata": {},
   "outputs": [
    {
     "data": {
      "text/plain": [
       "0.7129337539432177"
      ]
     },
     "execution_count": 6,
     "metadata": {},
     "output_type": "execute_result"
    }
   ],
   "source": [
    "from sklearn.neighbors import KNeighborsClassifier \n",
    "\n",
    "#aanmaken van knn classifier met een waarde van 5 neighbors\n",
    "knn = KNeighborsClassifier(n_neighbors=5) \n",
    "knn = knn.fit(X_train, y_train) \n",
    "\n",
    "#uitrekenen hoe goed de test data past. \n",
    "knn.score(X_test, y_test)"
   ]
  },
  {
   "cell_type": "markdown",
   "metadata": {},
   "source": [
    "71% van genders wordt juist gepredict aan de hand van de gekozen variabelen."
   ]
  },
  {
   "cell_type": "code",
   "execution_count": 8,
   "metadata": {},
   "outputs": [
    {
     "data": {
      "text/plain": [
       "array([[326, 131],\n",
       "       [142, 352]], dtype=int64)"
      ]
     },
     "execution_count": 8,
     "metadata": {},
     "output_type": "execute_result"
    }
   ],
   "source": [
    "from sklearn.metrics import confusion_matrix\n",
    "y_test_pred = knn.predict(X_test) #the predicted values\n",
    "cm = confusion_matrix(y_test, y_test_pred) #creates a \"confusion matrix\"\n",
    "cm"
   ]
  },
  {
   "cell_type": "code",
   "execution_count": 9,
   "metadata": {},
   "outputs": [
    {
     "data": {
      "text/html": [
       "<div>\n",
       "<style scoped>\n",
       "    .dataframe tbody tr th:only-of-type {\n",
       "        vertical-align: middle;\n",
       "    }\n",
       "\n",
       "    .dataframe tbody tr th {\n",
       "        vertical-align: top;\n",
       "    }\n",
       "\n",
       "    .dataframe thead th {\n",
       "        text-align: right;\n",
       "    }\n",
       "</style>\n",
       "<table border=\"1\" class=\"dataframe\">\n",
       "  <thead>\n",
       "    <tr style=\"text-align: right;\">\n",
       "      <th></th>\n",
       "      <th>Male_p</th>\n",
       "      <th>Female_p</th>\n",
       "    </tr>\n",
       "  </thead>\n",
       "  <tbody>\n",
       "    <tr>\n",
       "      <th>Male</th>\n",
       "      <td>326</td>\n",
       "      <td>131</td>\n",
       "    </tr>\n",
       "    <tr>\n",
       "      <th>Female</th>\n",
       "      <td>142</td>\n",
       "      <td>352</td>\n",
       "    </tr>\n",
       "  </tbody>\n",
       "</table>\n",
       "</div>"
      ],
      "text/plain": [
       "        Male_p  Female_p\n",
       "Male       326       131\n",
       "Female     142       352"
      ]
     },
     "execution_count": 9,
     "metadata": {},
     "output_type": "execute_result"
    }
   ],
   "source": [
    "#In order to read it easily , let's make a dataframe out of it, and add labels to it.\n",
    "conf_matrix = pd.DataFrame(cm, index=[\"Male\",\"Female\"], columns = [\"Male_p\",\"Female_p\"]) \n",
    "conf_matrix"
   ]
  },
  {
   "cell_type": "markdown",
   "metadata": {},
   "source": [
    "De _recall_ en _precision_ voor de identificatie van mannen en vrouwen zijn als volgt:\n",
    "\n",
    "$recall (man) = \\frac{326}{326 + 131} = .71$\n",
    "\n",
    "$recall (vrouw) = \\frac{352}{142 + 352} = .71$\n",
    "\n",
    "$precision (man) = \\frac{326}{326 + 142} = .70$\n",
    "\n",
    "$precision (vrouw) = \\frac{352}{352 + 131} = .73$\n",
    "\n"
   ]
  }
 ],
 "metadata": {
  "kernelspec": {
   "display_name": "Python 3.9.12 ('base')",
   "language": "python",
   "name": "python3"
  },
  "language_info": {
   "codemirror_mode": {
    "name": "ipython",
    "version": 3
   },
   "file_extension": ".py",
   "mimetype": "text/x-python",
   "name": "python",
   "nbconvert_exporter": "python",
   "pygments_lexer": "ipython3",
   "version": "3.9.12"
  },
  "vscode": {
   "interpreter": {
    "hash": "504942b84b4897d97556cd41c4fac1f7ecf3f9478d66087eec60a2d984d952da"
   }
  }
 },
 "nbformat": 4,
 "nbformat_minor": 2
}
